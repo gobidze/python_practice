{
  "nbformat": 4,
  "nbformat_minor": 0,
  "metadata": {
    "colab": {
      "name": "CHEREPASHKA.ipynb",
      "provenance": [],
      "collapsed_sections": [],
      "authorship_tag": "ABX9TyOTVZOzcpmohSytCN32BjNM",
      "include_colab_link": true
    },
    "kernelspec": {
      "name": "python3",
      "display_name": "Python 3"
    },
    "language_info": {
      "name": "python"
    }
  },
  "cells": [
    {
      "cell_type": "markdown",
      "metadata": {
        "id": "view-in-github",
        "colab_type": "text"
      },
      "source": [
        "<a href=\"https://colab.research.google.com/github/gobidze/python_turtle-graf/blob/main/CHEREPASHKA.ipynb\" target=\"_parent\"><img src=\"https://colab.research.google.com/assets/colab-badge.svg\" alt=\"Open In Colab\"/></a>"
      ]
    },
    {
      "cell_type": "code",
      "metadata": {
        "id": "lgcqXMgTgAX8",
        "colab": {
          "base_uri": "https://localhost:8080/"
        },
        "outputId": "ed56fb7c-eff8-4157-d20f-1e4d2c042cd6"
      },
      "source": [
        "!pip3 install ColabTurtle\n",
        "import ColabTurtle\n",
        "import math\n",
        "\n"
      ],
      "execution_count": 9,
      "outputs": [
        {
          "output_type": "stream",
          "name": "stdout",
          "text": [
            "Requirement already satisfied: ColabTurtle in /usr/local/lib/python3.7/dist-packages (2.1.0)\n"
          ]
        }
      ]
    },
    {
      "cell_type": "code",
      "source": [
        "T = ColabTurtle.Turtle"
      ],
      "metadata": {
        "id": "YkF2mmo5Du5D"
      },
      "execution_count": 60,
      "outputs": []
    },
    {
      "cell_type": "code",
      "metadata": {
        "id": "YTKwkjKsh033"
      },
      "source": [
        "def poligon_drow (side_leight, apexs : int):\n",
        "  T.setposition(100,100)\n",
        "  pendown()\n",
        "  for i in range(apexs):\n",
        "    forward(side_leight)\n",
        "    right(360/apexs)\n",
        "  penup()"
      ],
      "execution_count": 59,
      "outputs": []
    },
    {
      "cell_type": "code",
      "metadata": {
        "id": "taa8Fj46IDwM"
      },
      "source": [
        "def poligon_drow_doble (side_leight, apexs : int):\n",
        "  pendown()\n",
        "  for i in range(apexs):\n",
        "    poligon_drow(-side_leight//2,apexs)\n",
        "    forward(side_leight)\n",
        "    right(360/apexs)\n",
        "  penup()"
      ],
      "execution_count": 61,
      "outputs": []
    },
    {
      "cell_type": "code",
      "metadata": {
        "id": "2qO-Cb1kjQWY"
      },
      "source": [
        "def star_drow (side_leight, beam : int):\n",
        "  pendown()\n",
        "  for i in range(beam):\n",
        "    forward(side_leight)\n",
        "    right(180-180/(beam))\n",
        "  penup()\n",
        "  \n"
      ],
      "execution_count": 62,
      "outputs": []
    },
    {
      "cell_type": "code",
      "metadata": {
        "id": "ZXWRPQnp-wdJ"
      },
      "source": [
        "def green_de_card(T,dx0,dy0):\n",
        "  \"\"\"\n",
        "  Рисует оси координвт Х и У\n",
        "  \"\"\"\n",
        "  T.initializeTurtle()\n",
        "  clear()\n",
        "  T.background_color=('gray')\n",
        "  T.pen_color=('green')\n",
        "  penup()\n",
        "  T.setposition(dx0,0)\n",
        "  T.pendown()\n",
        "  T.forward(-T.window_width())\n",
        "  T.penup()\n",
        "  T.setposition(0,dy0)\n",
        "  T.pendown()\n",
        "  T.right(90)\n",
        "  T.forward(800)\n",
        "\n"
      ],
      "execution_count": 63,
      "outputs": []
    },
    {
      "cell_type": "code",
      "metadata": {
        "id": "xEGSgJ6AY_Ku"
      },
      "source": [
        "def graf(func, x_long,cvet='red'):\n",
        "  \n",
        "  dx0=100   #смещение по оси  Х\n",
        "  dy0=250   #смещение по оси  У\n",
        "  \n",
        "  x0=y0=0\n",
        "  T.penup()\n",
        "  T.setposition(x0+dx0,-f(x0)+dy0)\n",
        "  step_x=(T.window_width()-dx0)//x_long\n",
        "  T.pen_color=cvet\n",
        "  #print(\"start= \",T.position(),\"step_x= \",step_x,\"color= \",cvet,\"F(X)= \")\n",
        "  T.pendown()\n",
        "  for i in range(1,x_long):\n",
        "    x0 = i*step_x\n",
        "    if -1*func(x0)>= -dy0:\n",
        "      y0= -1*func(x0)\n",
        "    T.setposition(x0+dx0,y0+dy0)\n",
        "  x0=y0=0\n",
        "  penup()\n",
        "  "
      ],
      "execution_count": 74,
      "outputs": []
    },
    {
      "cell_type": "code",
      "source": [
        "green_de_card(T,100,250)"
      ],
      "metadata": {
        "colab": {
          "base_uri": "https://localhost:8080/",
          "height": 521
        },
        "id": "Dvn8ZsBOHI7O",
        "outputId": "5577c72b-3c30-48f4-9d60-c8e41f80d90d"
      },
      "execution_count": 100,
      "outputs": [
        {
          "output_type": "display_data",
          "data": {
            "text/html": [
              "\n",
              "      <svg width=\"800\" height=\"500\">\n",
              "        <rect width=\"100%\" height=\"100%\" fill=\"gray\"/>\n",
              "        <line x1=\"100\" y1=\"0\" x2=\"100.0\" y2=\"800.0\" stroke-linecap=\"round\" style=\"stroke:green;stroke-width:4\"/><line x1=\"0\" y1=\"250\" x2=\"800.0\" y2=\"250.0\" stroke-linecap=\"round\" style=\"stroke:green;stroke-width:4\"/>\n",
              "        <g visibility=visible transform=\"rotate(90,800.0,250.0) translate(782.0, 232.0)\">\n",
              "<path style=\" stroke:none;fill-rule:evenodd;fill:green;fill-opacity:1;\" d=\"M 18.214844 0.632812 C 16.109375 1.800781 15.011719 4.074219 15.074219 7.132812 L 15.085938 7.652344 L 14.785156 7.496094 C 13.476562 6.824219 11.957031 6.671875 10.40625 7.066406 C 8.46875 7.550781 6.515625 9.15625 4.394531 11.992188 C 3.0625 13.777344 2.679688 14.636719 3.042969 15.027344 L 3.15625 15.152344 L 3.519531 15.152344 C 4.238281 15.152344 4.828125 14.886719 8.1875 13.039062 C 9.386719 12.378906 10.371094 11.839844 10.378906 11.839844 C 10.386719 11.839844 10.355469 11.929688 10.304688 12.035156 C 9.832031 13.09375 9.257812 14.820312 8.96875 16.078125 C 7.914062 20.652344 8.617188 24.53125 11.070312 27.660156 C 11.351562 28.015625 11.363281 27.914062 10.972656 28.382812 C 8.925781 30.84375 7.945312 33.28125 8.238281 35.1875 C 8.289062 35.527344 8.28125 35.523438 8.917969 35.523438 C 10.941406 35.523438 13.074219 34.207031 15.136719 31.6875 C 15.359375 31.417969 15.328125 31.425781 15.5625 31.574219 C 16.292969 32.042969 18.023438 32.964844 18.175781 32.964844 C 18.335938 32.964844 19.941406 32.210938 20.828125 31.71875 C 20.996094 31.625 21.136719 31.554688 21.136719 31.558594 C 21.203125 31.664062 21.898438 32.414062 22.222656 32.730469 C 23.835938 34.300781 25.5625 35.132812 27.582031 35.300781 C 27.90625 35.328125 27.9375 35.308594 28.007812 34.984375 C 28.382812 33.242188 27.625 30.925781 25.863281 28.425781 L 25.542969 27.96875 L 25.699219 27.785156 C 28.945312 23.960938 29.132812 18.699219 26.257812 11.96875 L 26.207031 11.84375 L 27.945312 12.703125 C 31.53125 14.476562 32.316406 14.800781 33.03125 14.800781 C 33.976562 14.800781 33.78125 13.9375 32.472656 12.292969 C 28.519531 7.355469 25.394531 5.925781 21.921875 7.472656 L 21.558594 7.636719 L 21.578125 7.542969 C 21.699219 6.992188 21.761719 5.742188 21.699219 5.164062 C 21.496094 3.296875 20.664062 1.964844 19.003906 0.855469 C 18.480469 0.503906 18.457031 0.5 18.214844 0.632812\"/>\n",
              "</g>\n",
              "      </svg>\n",
              "    "
            ],
            "text/plain": [
              "<IPython.core.display.HTML object>"
            ]
          },
          "metadata": {}
        }
      ]
    },
    {
      "cell_type": "code",
      "metadata": {
        "colab": {
          "base_uri": "https://localhost:8080/",
          "height": 521
        },
        "id": "MIRvHrgM61C7",
        "outputId": "2b4fc243-8d8e-42b4-fb19-b99c3b1ce03f"
      },
      "source": [
        "\n",
        "green_de_card(T,100,250)\n",
        "\n",
        "\n",
        "m=int(50)                 # 0 <= m <= 800\n",
        "T.speed(12)\n",
        "\n",
        "f=lambda x: x/(x+35)*100\n",
        "graf(f,m,\"white\")\n",
        "\n",
        "f=lambda x: (1/(x+35))*1000\n",
        "graf(f,m,\"white\")\n",
        "\n",
        "f=lambda x: -50*math.sin(x/100)\n",
        "graf(f,int(m),'blue')\n",
        "\n",
        "f=lambda x: 50*math.sin(x/100)\n",
        "graf(f,int(m),'blue')\n",
        "\n",
        "f=lambda x: 100*math.cos(x/100)\n",
        "graf(f,m,'yellow')\n",
        "\n",
        "f=lambda x: 100*math.atan(x/100)\n",
        "graf(f,m)\n",
        "\n",
        "f=lambda x: math.sqrt(x)*10\n",
        "graf(f,m+10,\"black\")\n",
        "\n",
        "\n"
      ],
      "execution_count": 104,
      "outputs": [
        {
          "output_type": "display_data",
          "data": {
            "text/html": [
              "\n",
              "      <svg width=\"800\" height=\"500\">\n",
              "        <rect width=\"100%\" height=\"100%\" fill=\"gray\"/>\n",
              "        <line x1=\"100\" y1=\"0\" x2=\"100.0\" y2=\"800.0\" stroke-linecap=\"round\" style=\"stroke:green;stroke-width:4\"/><line x1=\"0\" y1=\"250\" x2=\"800.0\" y2=\"250.0\" stroke-linecap=\"round\" style=\"stroke:green;stroke-width:4\"/><line x1=\"100\" y1=\"250.0\" x2=\"114\" y2=\"221.429\" stroke-linecap=\"round\" style=\"stroke:white;stroke-width:4\"/><line x1=\"114\" y1=\"221.429\" x2=\"128\" y2=\"205.556\" stroke-linecap=\"round\" style=\"stroke:white;stroke-width:4\"/><line x1=\"128\" y1=\"205.556\" x2=\"142\" y2=\"195.455\" stroke-linecap=\"round\" style=\"stroke:white;stroke-width:4\"/><line x1=\"142\" y1=\"195.455\" x2=\"156\" y2=\"188.462\" stroke-linecap=\"round\" style=\"stroke:white;stroke-width:4\"/><line x1=\"156\" y1=\"188.462\" x2=\"170\" y2=\"183.333\" stroke-linecap=\"round\" style=\"stroke:white;stroke-width:4\"/><line x1=\"170\" y1=\"183.333\" x2=\"184\" y2=\"179.412\" stroke-linecap=\"round\" style=\"stroke:white;stroke-width:4\"/><line x1=\"184\" y1=\"179.412\" x2=\"198\" y2=\"176.316\" stroke-linecap=\"round\" style=\"stroke:white;stroke-width:4\"/><line x1=\"198\" y1=\"176.316\" x2=\"212\" y2=\"173.81\" stroke-linecap=\"round\" style=\"stroke:white;stroke-width:4\"/><line x1=\"212\" y1=\"173.81\" x2=\"226\" y2=\"171.739\" stroke-linecap=\"round\" style=\"stroke:white;stroke-width:4\"/><line x1=\"226\" y1=\"171.739\" x2=\"240\" y2=\"170.0\" stroke-linecap=\"round\" style=\"stroke:white;stroke-width:4\"/><line x1=\"240\" y1=\"170.0\" x2=\"254\" y2=\"168.519\" stroke-linecap=\"round\" style=\"stroke:white;stroke-width:4\"/><line x1=\"254\" y1=\"168.519\" x2=\"268\" y2=\"167.241\" stroke-linecap=\"round\" style=\"stroke:white;stroke-width:4\"/><line x1=\"268\" y1=\"167.241\" x2=\"282\" y2=\"166.129\" stroke-linecap=\"round\" style=\"stroke:white;stroke-width:4\"/><line x1=\"282\" y1=\"166.129\" x2=\"296\" y2=\"165.152\" stroke-linecap=\"round\" style=\"stroke:white;stroke-width:4\"/><line x1=\"296\" y1=\"165.152\" x2=\"310\" y2=\"164.286\" stroke-linecap=\"round\" style=\"stroke:white;stroke-width:4\"/><line x1=\"310\" y1=\"164.286\" x2=\"324\" y2=\"163.514\" stroke-linecap=\"round\" style=\"stroke:white;stroke-width:4\"/><line x1=\"324\" y1=\"163.514\" x2=\"338\" y2=\"162.821\" stroke-linecap=\"round\" style=\"stroke:white;stroke-width:4\"/><line x1=\"338\" y1=\"162.821\" x2=\"352\" y2=\"162.195\" stroke-linecap=\"round\" style=\"stroke:white;stroke-width:4\"/><line x1=\"352\" y1=\"162.195\" x2=\"366\" y2=\"161.628\" stroke-linecap=\"round\" style=\"stroke:white;stroke-width:4\"/><line x1=\"366\" y1=\"161.628\" x2=\"380\" y2=\"161.111\" stroke-linecap=\"round\" style=\"stroke:white;stroke-width:4\"/><line x1=\"380\" y1=\"161.111\" x2=\"394\" y2=\"160.638\" stroke-linecap=\"round\" style=\"stroke:white;stroke-width:4\"/><line x1=\"394\" y1=\"160.638\" x2=\"408\" y2=\"160.204\" stroke-linecap=\"round\" style=\"stroke:white;stroke-width:4\"/><line x1=\"408\" y1=\"160.204\" x2=\"422\" y2=\"159.804\" stroke-linecap=\"round\" style=\"stroke:white;stroke-width:4\"/><line x1=\"422\" y1=\"159.804\" x2=\"436\" y2=\"159.434\" stroke-linecap=\"round\" style=\"stroke:white;stroke-width:4\"/><line x1=\"436\" y1=\"159.434\" x2=\"450\" y2=\"159.091\" stroke-linecap=\"round\" style=\"stroke:white;stroke-width:4\"/><line x1=\"450\" y1=\"159.091\" x2=\"464\" y2=\"158.772\" stroke-linecap=\"round\" style=\"stroke:white;stroke-width:4\"/><line x1=\"464\" y1=\"158.772\" x2=\"478\" y2=\"158.475\" stroke-linecap=\"round\" style=\"stroke:white;stroke-width:4\"/><line x1=\"478\" y1=\"158.475\" x2=\"492\" y2=\"158.197\" stroke-linecap=\"round\" style=\"stroke:white;stroke-width:4\"/><line x1=\"492\" y1=\"158.197\" x2=\"506\" y2=\"157.937\" stroke-linecap=\"round\" style=\"stroke:white;stroke-width:4\"/><line x1=\"506\" y1=\"157.937\" x2=\"520\" y2=\"157.692\" stroke-linecap=\"round\" style=\"stroke:white;stroke-width:4\"/><line x1=\"520\" y1=\"157.692\" x2=\"534\" y2=\"157.463\" stroke-linecap=\"round\" style=\"stroke:white;stroke-width:4\"/><line x1=\"534\" y1=\"157.463\" x2=\"548\" y2=\"157.246\" stroke-linecap=\"round\" style=\"stroke:white;stroke-width:4\"/><line x1=\"548\" y1=\"157.246\" x2=\"562\" y2=\"157.042\" stroke-linecap=\"round\" style=\"stroke:white;stroke-width:4\"/><line x1=\"562\" y1=\"157.042\" x2=\"576\" y2=\"156.849\" stroke-linecap=\"round\" style=\"stroke:white;stroke-width:4\"/><line x1=\"576\" y1=\"156.849\" x2=\"590\" y2=\"156.667\" stroke-linecap=\"round\" style=\"stroke:white;stroke-width:4\"/><line x1=\"590\" y1=\"156.667\" x2=\"604\" y2=\"156.494\" stroke-linecap=\"round\" style=\"stroke:white;stroke-width:4\"/><line x1=\"604\" y1=\"156.494\" x2=\"618\" y2=\"156.329\" stroke-linecap=\"round\" style=\"stroke:white;stroke-width:4\"/><line x1=\"618\" y1=\"156.329\" x2=\"632\" y2=\"156.173\" stroke-linecap=\"round\" style=\"stroke:white;stroke-width:4\"/><line x1=\"632\" y1=\"156.173\" x2=\"646\" y2=\"156.024\" stroke-linecap=\"round\" style=\"stroke:white;stroke-width:4\"/><line x1=\"646\" y1=\"156.024\" x2=\"660\" y2=\"155.882\" stroke-linecap=\"round\" style=\"stroke:white;stroke-width:4\"/><line x1=\"660\" y1=\"155.882\" x2=\"674\" y2=\"155.747\" stroke-linecap=\"round\" style=\"stroke:white;stroke-width:4\"/><line x1=\"674\" y1=\"155.747\" x2=\"688\" y2=\"155.618\" stroke-linecap=\"round\" style=\"stroke:white;stroke-width:4\"/><line x1=\"688\" y1=\"155.618\" x2=\"702\" y2=\"155.495\" stroke-linecap=\"round\" style=\"stroke:white;stroke-width:4\"/><line x1=\"702\" y1=\"155.495\" x2=\"716\" y2=\"155.376\" stroke-linecap=\"round\" style=\"stroke:white;stroke-width:4\"/><line x1=\"716\" y1=\"155.376\" x2=\"730\" y2=\"155.263\" stroke-linecap=\"round\" style=\"stroke:white;stroke-width:4\"/><line x1=\"730\" y1=\"155.263\" x2=\"744\" y2=\"155.155\" stroke-linecap=\"round\" style=\"stroke:white;stroke-width:4\"/><line x1=\"744\" y1=\"155.155\" x2=\"758\" y2=\"155.051\" stroke-linecap=\"round\" style=\"stroke:white;stroke-width:4\"/><line x1=\"758\" y1=\"155.051\" x2=\"772\" y2=\"154.95\" stroke-linecap=\"round\" style=\"stroke:white;stroke-width:4\"/><line x1=\"772\" y1=\"154.95\" x2=\"786\" y2=\"154.854\" stroke-linecap=\"round\" style=\"stroke:white;stroke-width:4\"/><line x1=\"100\" y1=\"221.429\" x2=\"114\" y2=\"229.592\" stroke-linecap=\"round\" style=\"stroke:white;stroke-width:4\"/><line x1=\"114\" y1=\"229.592\" x2=\"128\" y2=\"234.127\" stroke-linecap=\"round\" style=\"stroke:white;stroke-width:4\"/><line x1=\"128\" y1=\"234.127\" x2=\"142\" y2=\"237.013\" stroke-linecap=\"round\" style=\"stroke:white;stroke-width:4\"/><line x1=\"142\" y1=\"237.013\" x2=\"156\" y2=\"239.011\" stroke-linecap=\"round\" style=\"stroke:white;stroke-width:4\"/><line x1=\"156\" y1=\"239.011\" x2=\"170\" y2=\"240.476\" stroke-linecap=\"round\" style=\"stroke:white;stroke-width:4\"/><line x1=\"170\" y1=\"240.476\" x2=\"184\" y2=\"241.597\" stroke-linecap=\"round\" style=\"stroke:white;stroke-width:4\"/><line x1=\"184\" y1=\"241.597\" x2=\"198\" y2=\"242.481\" stroke-linecap=\"round\" style=\"stroke:white;stroke-width:4\"/><line x1=\"198\" y1=\"242.481\" x2=\"212\" y2=\"243.197\" stroke-linecap=\"round\" style=\"stroke:white;stroke-width:4\"/><line x1=\"212\" y1=\"243.197\" x2=\"226\" y2=\"243.789\" stroke-linecap=\"round\" style=\"stroke:white;stroke-width:4\"/><line x1=\"226\" y1=\"243.789\" x2=\"240\" y2=\"244.286\" stroke-linecap=\"round\" style=\"stroke:white;stroke-width:4\"/><line x1=\"240\" y1=\"244.286\" x2=\"254\" y2=\"244.709\" stroke-linecap=\"round\" style=\"stroke:white;stroke-width:4\"/><line x1=\"254\" y1=\"244.709\" x2=\"268\" y2=\"245.074\" stroke-linecap=\"round\" style=\"stroke:white;stroke-width:4\"/><line x1=\"268\" y1=\"245.074\" x2=\"282\" y2=\"245.392\" stroke-linecap=\"round\" style=\"stroke:white;stroke-width:4\"/><line x1=\"282\" y1=\"245.392\" x2=\"296\" y2=\"245.671\" stroke-linecap=\"round\" style=\"stroke:white;stroke-width:4\"/><line x1=\"296\" y1=\"245.671\" x2=\"310\" y2=\"245.918\" stroke-linecap=\"round\" style=\"stroke:white;stroke-width:4\"/><line x1=\"310\" y1=\"245.918\" x2=\"324\" y2=\"246.139\" stroke-linecap=\"round\" style=\"stroke:white;stroke-width:4\"/><line x1=\"324\" y1=\"246.139\" x2=\"338\" y2=\"246.337\" stroke-linecap=\"round\" style=\"stroke:white;stroke-width:4\"/><line x1=\"338\" y1=\"246.337\" x2=\"352\" y2=\"246.516\" stroke-linecap=\"round\" style=\"stroke:white;stroke-width:4\"/><line x1=\"352\" y1=\"246.516\" x2=\"366\" y2=\"246.678\" stroke-linecap=\"round\" style=\"stroke:white;stroke-width:4\"/><line x1=\"366\" y1=\"246.678\" x2=\"380\" y2=\"246.825\" stroke-linecap=\"round\" style=\"stroke:white;stroke-width:4\"/><line x1=\"380\" y1=\"246.825\" x2=\"394\" y2=\"246.96\" stroke-linecap=\"round\" style=\"stroke:white;stroke-width:4\"/><line x1=\"394\" y1=\"246.96\" x2=\"408\" y2=\"247.085\" stroke-linecap=\"round\" style=\"stroke:white;stroke-width:4\"/><line x1=\"408\" y1=\"247.085\" x2=\"422\" y2=\"247.199\" stroke-linecap=\"round\" style=\"stroke:white;stroke-width:4\"/><line x1=\"422\" y1=\"247.199\" x2=\"436\" y2=\"247.305\" stroke-linecap=\"round\" style=\"stroke:white;stroke-width:4\"/><line x1=\"436\" y1=\"247.305\" x2=\"450\" y2=\"247.403\" stroke-linecap=\"round\" style=\"stroke:white;stroke-width:4\"/><line x1=\"450\" y1=\"247.403\" x2=\"464\" y2=\"247.494\" stroke-linecap=\"round\" style=\"stroke:white;stroke-width:4\"/><line x1=\"464\" y1=\"247.494\" x2=\"478\" y2=\"247.579\" stroke-linecap=\"round\" style=\"stroke:white;stroke-width:4\"/><line x1=\"478\" y1=\"247.579\" x2=\"492\" y2=\"247.658\" stroke-linecap=\"round\" style=\"stroke:white;stroke-width:4\"/><line x1=\"492\" y1=\"247.658\" x2=\"506\" y2=\"247.732\" stroke-linecap=\"round\" style=\"stroke:white;stroke-width:4\"/><line x1=\"506\" y1=\"247.732\" x2=\"520\" y2=\"247.802\" stroke-linecap=\"round\" style=\"stroke:white;stroke-width:4\"/><line x1=\"520\" y1=\"247.802\" x2=\"534\" y2=\"247.868\" stroke-linecap=\"round\" style=\"stroke:white;stroke-width:4\"/><line x1=\"534\" y1=\"247.868\" x2=\"548\" y2=\"247.93\" stroke-linecap=\"round\" style=\"stroke:white;stroke-width:4\"/><line x1=\"548\" y1=\"247.93\" x2=\"562\" y2=\"247.988\" stroke-linecap=\"round\" style=\"stroke:white;stroke-width:4\"/><line x1=\"562\" y1=\"247.988\" x2=\"576\" y2=\"248.043\" stroke-linecap=\"round\" style=\"stroke:white;stroke-width:4\"/><line x1=\"576\" y1=\"248.043\" x2=\"590\" y2=\"248.095\" stroke-linecap=\"round\" style=\"stroke:white;stroke-width:4\"/><line x1=\"590\" y1=\"248.095\" x2=\"604\" y2=\"248.145\" stroke-linecap=\"round\" style=\"stroke:white;stroke-width:4\"/><line x1=\"604\" y1=\"248.145\" x2=\"618\" y2=\"248.192\" stroke-linecap=\"round\" style=\"stroke:white;stroke-width:4\"/><line x1=\"618\" y1=\"248.192\" x2=\"632\" y2=\"248.236\" stroke-linecap=\"round\" style=\"stroke:white;stroke-width:4\"/><line x1=\"632\" y1=\"248.236\" x2=\"646\" y2=\"248.279\" stroke-linecap=\"round\" style=\"stroke:white;stroke-width:4\"/><line x1=\"646\" y1=\"248.279\" x2=\"660\" y2=\"248.319\" stroke-linecap=\"round\" style=\"stroke:white;stroke-width:4\"/><line x1=\"660\" y1=\"248.319\" x2=\"674\" y2=\"248.358\" stroke-linecap=\"round\" style=\"stroke:white;stroke-width:4\"/><line x1=\"674\" y1=\"248.358\" x2=\"688\" y2=\"248.395\" stroke-linecap=\"round\" style=\"stroke:white;stroke-width:4\"/><line x1=\"688\" y1=\"248.395\" x2=\"702\" y2=\"248.43\" stroke-linecap=\"round\" style=\"stroke:white;stroke-width:4\"/><line x1=\"702\" y1=\"248.43\" x2=\"716\" y2=\"248.464\" stroke-linecap=\"round\" style=\"stroke:white;stroke-width:4\"/><line x1=\"716\" y1=\"248.464\" x2=\"730\" y2=\"248.496\" stroke-linecap=\"round\" style=\"stroke:white;stroke-width:4\"/><line x1=\"730\" y1=\"248.496\" x2=\"744\" y2=\"248.527\" stroke-linecap=\"round\" style=\"stroke:white;stroke-width:4\"/><line x1=\"744\" y1=\"248.527\" x2=\"758\" y2=\"248.557\" stroke-linecap=\"round\" style=\"stroke:white;stroke-width:4\"/><line x1=\"758\" y1=\"248.557\" x2=\"772\" y2=\"248.586\" stroke-linecap=\"round\" style=\"stroke:white;stroke-width:4\"/><line x1=\"772\" y1=\"248.586\" x2=\"786\" y2=\"248.613\" stroke-linecap=\"round\" style=\"stroke:white;stroke-width:4\"/><line x1=\"100\" y1=\"250.0\" x2=\"114\" y2=\"256.977\" stroke-linecap=\"round\" style=\"stroke:blue;stroke-width:4\"/><line x1=\"114\" y1=\"256.977\" x2=\"128\" y2=\"263.818\" stroke-linecap=\"round\" style=\"stroke:blue;stroke-width:4\"/><line x1=\"128\" y1=\"263.818\" x2=\"142\" y2=\"270.388\" stroke-linecap=\"round\" style=\"stroke:blue;stroke-width:4\"/><line x1=\"142\" y1=\"270.388\" x2=\"156\" y2=\"276.559\" stroke-linecap=\"round\" style=\"stroke:blue;stroke-width:4\"/><line x1=\"156\" y1=\"276.559\" x2=\"170\" y2=\"282.211\" stroke-linecap=\"round\" style=\"stroke:blue;stroke-width:4\"/><line x1=\"170\" y1=\"282.211\" x2=\"184\" y2=\"287.232\" stroke-linecap=\"round\" style=\"stroke:blue;stroke-width:4\"/><line x1=\"184\" y1=\"287.232\" x2=\"198\" y2=\"291.525\" stroke-linecap=\"round\" style=\"stroke:blue;stroke-width:4\"/><line x1=\"198\" y1=\"291.525\" x2=\"212\" y2=\"295.005\" stroke-linecap=\"round\" style=\"stroke:blue;stroke-width:4\"/><line x1=\"212\" y1=\"295.005\" x2=\"226\" y2=\"297.605\" stroke-linecap=\"round\" style=\"stroke:blue;stroke-width:4\"/><line x1=\"226\" y1=\"297.605\" x2=\"240\" y2=\"299.272\" stroke-linecap=\"round\" style=\"stroke:blue;stroke-width:4\"/><line x1=\"240\" y1=\"299.272\" x2=\"254\" y2=\"299.976\" stroke-linecap=\"round\" style=\"stroke:blue;stroke-width:4\"/><line x1=\"254\" y1=\"299.976\" x2=\"268\" y2=\"299.702\" stroke-linecap=\"round\" style=\"stroke:blue;stroke-width:4\"/><line x1=\"268\" y1=\"299.702\" x2=\"282\" y2=\"298.455\" stroke-linecap=\"round\" style=\"stroke:blue;stroke-width:4\"/><line x1=\"282\" y1=\"298.455\" x2=\"296\" y2=\"296.261\" stroke-linecap=\"round\" style=\"stroke:blue;stroke-width:4\"/><line x1=\"296\" y1=\"296.261\" x2=\"310\" y2=\"293.16\" stroke-linecap=\"round\" style=\"stroke:blue;stroke-width:4\"/><line x1=\"310\" y1=\"293.16\" x2=\"324\" y2=\"289.216\" stroke-linecap=\"round\" style=\"stroke:blue;stroke-width:4\"/><line x1=\"324\" y1=\"289.216\" x2=\"338\" y2=\"284.504\" stroke-linecap=\"round\" style=\"stroke:blue;stroke-width:4\"/><line x1=\"338\" y1=\"284.504\" x2=\"352\" y2=\"279.117\" stroke-linecap=\"round\" style=\"stroke:blue;stroke-width:4\"/><line x1=\"352\" y1=\"279.117\" x2=\"366\" y2=\"273.16\" stroke-linecap=\"round\" style=\"stroke:blue;stroke-width:4\"/><line x1=\"366\" y1=\"273.16\" x2=\"380\" y2=\"266.749\" stroke-linecap=\"round\" style=\"stroke:blue;stroke-width:4\"/><line x1=\"380\" y1=\"266.749\" x2=\"394\" y2=\"260.011\" stroke-linecap=\"round\" style=\"stroke:blue;stroke-width:4\"/><line x1=\"394\" y1=\"260.011\" x2=\"408\" y2=\"253.078\" stroke-linecap=\"round\" style=\"stroke:blue;stroke-width:4\"/><line x1=\"408\" y1=\"253.078\" x2=\"422\" y2=\"246.084\" stroke-linecap=\"round\" style=\"stroke:blue;stroke-width:4\"/><line x1=\"422\" y1=\"246.084\" x2=\"436\" y2=\"239.166\" stroke-linecap=\"round\" style=\"stroke:blue;stroke-width:4\"/><line x1=\"436\" y1=\"239.166\" x2=\"450\" y2=\"232.461\" stroke-linecap=\"round\" style=\"stroke:blue;stroke-width:4\"/><line x1=\"450\" y1=\"232.461\" x2=\"464\" y2=\"226.099\" stroke-linecap=\"round\" style=\"stroke:blue;stroke-width:4\"/><line x1=\"464\" y1=\"226.099\" x2=\"478\" y2=\"220.204\" stroke-linecap=\"round\" style=\"stroke:blue;stroke-width:4\"/><line x1=\"478\" y1=\"220.204\" x2=\"492\" y2=\"214.893\" stroke-linecap=\"round\" style=\"stroke:blue;stroke-width:4\"/><line x1=\"492\" y1=\"214.893\" x2=\"506\" y2=\"210.268\" stroke-linecap=\"round\" style=\"stroke:blue;stroke-width:4\"/><line x1=\"506\" y1=\"210.268\" x2=\"520\" y2=\"206.421\" stroke-linecap=\"round\" style=\"stroke:blue;stroke-width:4\"/><line x1=\"520\" y1=\"206.421\" x2=\"534\" y2=\"203.427\" stroke-linecap=\"round\" style=\"stroke:blue;stroke-width:4\"/><line x1=\"534\" y1=\"203.427\" x2=\"548\" y2=\"201.344\" stroke-linecap=\"round\" style=\"stroke:blue;stroke-width:4\"/><line x1=\"548\" y1=\"201.344\" x2=\"562\" y2=\"200.213\" stroke-linecap=\"round\" style=\"stroke:blue;stroke-width:4\"/><line x1=\"562\" y1=\"200.213\" x2=\"576\" y2=\"200.057\" stroke-linecap=\"round\" style=\"stroke:blue;stroke-width:4\"/><line x1=\"576\" y1=\"200.057\" x2=\"590\" y2=\"200.877\" stroke-linecap=\"round\" style=\"stroke:blue;stroke-width:4\"/><line x1=\"590\" y1=\"200.877\" x2=\"604\" y2=\"202.659\" stroke-linecap=\"round\" style=\"stroke:blue;stroke-width:4\"/><line x1=\"604\" y1=\"202.659\" x2=\"618\" y2=\"205.368\" stroke-linecap=\"round\" style=\"stroke:blue;stroke-width:4\"/><line x1=\"618\" y1=\"205.368\" x2=\"632\" y2=\"208.949\" stroke-linecap=\"round\" style=\"stroke:blue;stroke-width:4\"/><line x1=\"632\" y1=\"208.949\" x2=\"646\" y2=\"213.334\" stroke-linecap=\"round\" style=\"stroke:blue;stroke-width:4\"/><line x1=\"646\" y1=\"213.334\" x2=\"660\" y2=\"218.437\" stroke-linecap=\"round\" style=\"stroke:blue;stroke-width:4\"/><line x1=\"660\" y1=\"218.437\" x2=\"674\" y2=\"224.157\" stroke-linecap=\"round\" style=\"stroke:blue;stroke-width:4\"/><line x1=\"674\" y1=\"224.157\" x2=\"688\" y2=\"230.382\" stroke-linecap=\"round\" style=\"stroke:blue;stroke-width:4\"/><line x1=\"688\" y1=\"230.382\" x2=\"702\" y2=\"236.992\" stroke-linecap=\"round\" style=\"stroke:blue;stroke-width:4\"/><line x1=\"702\" y1=\"236.992\" x2=\"716\" y2=\"243.856\" stroke-linecap=\"round\" style=\"stroke:blue;stroke-width:4\"/><line x1=\"716\" y1=\"243.856\" x2=\"730\" y2=\"250.841\" stroke-linecap=\"round\" style=\"stroke:blue;stroke-width:4\"/><line x1=\"730\" y1=\"250.841\" x2=\"744\" y2=\"257.809\" stroke-linecap=\"round\" style=\"stroke:blue;stroke-width:4\"/><line x1=\"744\" y1=\"257.809\" x2=\"758\" y2=\"264.624\" stroke-linecap=\"round\" style=\"stroke:blue;stroke-width:4\"/><line x1=\"758\" y1=\"264.624\" x2=\"772\" y2=\"271.153\" stroke-linecap=\"round\" style=\"stroke:blue;stroke-width:4\"/><line x1=\"772\" y1=\"271.153\" x2=\"786\" y2=\"277.268\" stroke-linecap=\"round\" style=\"stroke:blue;stroke-width:4\"/><line x1=\"100\" y1=\"250.0\" x2=\"114\" y2=\"243.023\" stroke-linecap=\"round\" style=\"stroke:blue;stroke-width:4\"/><line x1=\"114\" y1=\"243.023\" x2=\"128\" y2=\"236.182\" stroke-linecap=\"round\" style=\"stroke:blue;stroke-width:4\"/><line x1=\"128\" y1=\"236.182\" x2=\"142\" y2=\"229.612\" stroke-linecap=\"round\" style=\"stroke:blue;stroke-width:4\"/><line x1=\"142\" y1=\"229.612\" x2=\"156\" y2=\"223.441\" stroke-linecap=\"round\" style=\"stroke:blue;stroke-width:4\"/><line x1=\"156\" y1=\"223.441\" x2=\"170\" y2=\"217.789\" stroke-linecap=\"round\" style=\"stroke:blue;stroke-width:4\"/><line x1=\"170\" y1=\"217.789\" x2=\"184\" y2=\"212.768\" stroke-linecap=\"round\" style=\"stroke:blue;stroke-width:4\"/><line x1=\"184\" y1=\"212.768\" x2=\"198\" y2=\"208.475\" stroke-linecap=\"round\" style=\"stroke:blue;stroke-width:4\"/><line x1=\"198\" y1=\"208.475\" x2=\"212\" y2=\"204.995\" stroke-linecap=\"round\" style=\"stroke:blue;stroke-width:4\"/><line x1=\"212\" y1=\"204.995\" x2=\"226\" y2=\"202.395\" stroke-linecap=\"round\" style=\"stroke:blue;stroke-width:4\"/><line x1=\"226\" y1=\"202.395\" x2=\"240\" y2=\"200.728\" stroke-linecap=\"round\" style=\"stroke:blue;stroke-width:4\"/><line x1=\"240\" y1=\"200.728\" x2=\"254\" y2=\"200.024\" stroke-linecap=\"round\" style=\"stroke:blue;stroke-width:4\"/><line x1=\"254\" y1=\"200.024\" x2=\"268\" y2=\"200.298\" stroke-linecap=\"round\" style=\"stroke:blue;stroke-width:4\"/><line x1=\"268\" y1=\"200.298\" x2=\"282\" y2=\"201.545\" stroke-linecap=\"round\" style=\"stroke:blue;stroke-width:4\"/><line x1=\"282\" y1=\"201.545\" x2=\"296\" y2=\"203.739\" stroke-linecap=\"round\" style=\"stroke:blue;stroke-width:4\"/><line x1=\"296\" y1=\"203.739\" x2=\"310\" y2=\"206.84\" stroke-linecap=\"round\" style=\"stroke:blue;stroke-width:4\"/><line x1=\"310\" y1=\"206.84\" x2=\"324\" y2=\"210.784\" stroke-linecap=\"round\" style=\"stroke:blue;stroke-width:4\"/><line x1=\"324\" y1=\"210.784\" x2=\"338\" y2=\"215.496\" stroke-linecap=\"round\" style=\"stroke:blue;stroke-width:4\"/><line x1=\"338\" y1=\"215.496\" x2=\"352\" y2=\"220.883\" stroke-linecap=\"round\" style=\"stroke:blue;stroke-width:4\"/><line x1=\"352\" y1=\"220.883\" x2=\"366\" y2=\"226.84\" stroke-linecap=\"round\" style=\"stroke:blue;stroke-width:4\"/><line x1=\"366\" y1=\"226.84\" x2=\"380\" y2=\"233.251\" stroke-linecap=\"round\" style=\"stroke:blue;stroke-width:4\"/><line x1=\"380\" y1=\"233.251\" x2=\"394\" y2=\"239.989\" stroke-linecap=\"round\" style=\"stroke:blue;stroke-width:4\"/><line x1=\"394\" y1=\"239.989\" x2=\"408\" y2=\"246.922\" stroke-linecap=\"round\" style=\"stroke:blue;stroke-width:4\"/><line x1=\"408\" y1=\"246.922\" x2=\"422\" y2=\"253.916\" stroke-linecap=\"round\" style=\"stroke:blue;stroke-width:4\"/><line x1=\"422\" y1=\"253.916\" x2=\"436\" y2=\"260.834\" stroke-linecap=\"round\" style=\"stroke:blue;stroke-width:4\"/><line x1=\"436\" y1=\"260.834\" x2=\"450\" y2=\"267.539\" stroke-linecap=\"round\" style=\"stroke:blue;stroke-width:4\"/><line x1=\"450\" y1=\"267.539\" x2=\"464\" y2=\"273.901\" stroke-linecap=\"round\" style=\"stroke:blue;stroke-width:4\"/><line x1=\"464\" y1=\"273.901\" x2=\"478\" y2=\"279.796\" stroke-linecap=\"round\" style=\"stroke:blue;stroke-width:4\"/><line x1=\"478\" y1=\"279.796\" x2=\"492\" y2=\"285.107\" stroke-linecap=\"round\" style=\"stroke:blue;stroke-width:4\"/><line x1=\"492\" y1=\"285.107\" x2=\"506\" y2=\"289.732\" stroke-linecap=\"round\" style=\"stroke:blue;stroke-width:4\"/><line x1=\"506\" y1=\"289.732\" x2=\"520\" y2=\"293.579\" stroke-linecap=\"round\" style=\"stroke:blue;stroke-width:4\"/><line x1=\"520\" y1=\"293.579\" x2=\"534\" y2=\"296.573\" stroke-linecap=\"round\" style=\"stroke:blue;stroke-width:4\"/><line x1=\"534\" y1=\"296.573\" x2=\"548\" y2=\"298.656\" stroke-linecap=\"round\" style=\"stroke:blue;stroke-width:4\"/><line x1=\"548\" y1=\"298.656\" x2=\"562\" y2=\"299.787\" stroke-linecap=\"round\" style=\"stroke:blue;stroke-width:4\"/><line x1=\"562\" y1=\"299.787\" x2=\"576\" y2=\"299.943\" stroke-linecap=\"round\" style=\"stroke:blue;stroke-width:4\"/><line x1=\"576\" y1=\"299.943\" x2=\"590\" y2=\"299.123\" stroke-linecap=\"round\" style=\"stroke:blue;stroke-width:4\"/><line x1=\"590\" y1=\"299.123\" x2=\"604\" y2=\"297.341\" stroke-linecap=\"round\" style=\"stroke:blue;stroke-width:4\"/><line x1=\"604\" y1=\"297.341\" x2=\"618\" y2=\"294.632\" stroke-linecap=\"round\" style=\"stroke:blue;stroke-width:4\"/><line x1=\"618\" y1=\"294.632\" x2=\"632\" y2=\"291.051\" stroke-linecap=\"round\" style=\"stroke:blue;stroke-width:4\"/><line x1=\"632\" y1=\"291.051\" x2=\"646\" y2=\"286.666\" stroke-linecap=\"round\" style=\"stroke:blue;stroke-width:4\"/><line x1=\"646\" y1=\"286.666\" x2=\"660\" y2=\"281.563\" stroke-linecap=\"round\" style=\"stroke:blue;stroke-width:4\"/><line x1=\"660\" y1=\"281.563\" x2=\"674\" y2=\"275.843\" stroke-linecap=\"round\" style=\"stroke:blue;stroke-width:4\"/><line x1=\"674\" y1=\"275.843\" x2=\"688\" y2=\"269.618\" stroke-linecap=\"round\" style=\"stroke:blue;stroke-width:4\"/><line x1=\"688\" y1=\"269.618\" x2=\"702\" y2=\"263.008\" stroke-linecap=\"round\" style=\"stroke:blue;stroke-width:4\"/><line x1=\"702\" y1=\"263.008\" x2=\"716\" y2=\"256.144\" stroke-linecap=\"round\" style=\"stroke:blue;stroke-width:4\"/><line x1=\"716\" y1=\"256.144\" x2=\"730\" y2=\"249.159\" stroke-linecap=\"round\" style=\"stroke:blue;stroke-width:4\"/><line x1=\"730\" y1=\"249.159\" x2=\"744\" y2=\"242.191\" stroke-linecap=\"round\" style=\"stroke:blue;stroke-width:4\"/><line x1=\"744\" y1=\"242.191\" x2=\"758\" y2=\"235.376\" stroke-linecap=\"round\" style=\"stroke:blue;stroke-width:4\"/><line x1=\"758\" y1=\"235.376\" x2=\"772\" y2=\"228.847\" stroke-linecap=\"round\" style=\"stroke:blue;stroke-width:4\"/><line x1=\"772\" y1=\"228.847\" x2=\"786\" y2=\"222.732\" stroke-linecap=\"round\" style=\"stroke:blue;stroke-width:4\"/><line x1=\"100\" y1=\"150.0\" x2=\"114\" y2=\"150.978\" stroke-linecap=\"round\" style=\"stroke:yellow;stroke-width:4\"/><line x1=\"114\" y1=\"150.978\" x2=\"128\" y2=\"153.894\" stroke-linecap=\"round\" style=\"stroke:yellow;stroke-width:4\"/><line x1=\"128\" y1=\"153.894\" x2=\"142\" y2=\"158.691\" stroke-linecap=\"round\" style=\"stroke:yellow;stroke-width:4\"/><line x1=\"142\" y1=\"158.691\" x2=\"156\" y2=\"165.274\" stroke-linecap=\"round\" style=\"stroke:yellow;stroke-width:4\"/><line x1=\"156\" y1=\"165.274\" x2=\"170\" y2=\"173.516\" stroke-linecap=\"round\" style=\"stroke:yellow;stroke-width:4\"/><line x1=\"170\" y1=\"173.516\" x2=\"184\" y2=\"183.254\" stroke-linecap=\"round\" style=\"stroke:yellow;stroke-width:4\"/><line x1=\"184\" y1=\"183.254\" x2=\"198\" y2=\"194.298\" stroke-linecap=\"round\" style=\"stroke:yellow;stroke-width:4\"/><line x1=\"198\" y1=\"194.298\" x2=\"212\" y2=\"206.432\" stroke-linecap=\"round\" style=\"stroke:yellow;stroke-width:4\"/><line x1=\"212\" y1=\"206.432\" x2=\"226\" y2=\"219.418\" stroke-linecap=\"round\" style=\"stroke:yellow;stroke-width:4\"/><line x1=\"226\" y1=\"219.418\" x2=\"240\" y2=\"233.003\" stroke-linecap=\"round\" style=\"stroke:yellow;stroke-width:4\"/><line x1=\"240\" y1=\"233.003\" x2=\"254\" y2=\"246.921\" stroke-linecap=\"round\" style=\"stroke:yellow;stroke-width:4\"/><line x1=\"254\" y1=\"246.921\" x2=\"268\" y2=\"260.899\" stroke-linecap=\"round\" style=\"stroke:yellow;stroke-width:4\"/><line x1=\"268\" y1=\"260.899\" x2=\"282\" y2=\"274.663\" stroke-linecap=\"round\" style=\"stroke:yellow;stroke-width:4\"/><line x1=\"282\" y1=\"274.663\" x2=\"296\" y2=\"287.945\" stroke-linecap=\"round\" style=\"stroke:yellow;stroke-width:4\"/><line x1=\"296\" y1=\"287.945\" x2=\"310\" y2=\"300.485\" stroke-linecap=\"round\" style=\"stroke:yellow;stroke-width:4\"/><line x1=\"310\" y1=\"300.485\" x2=\"324\" y2=\"312.036\" stroke-linecap=\"round\" style=\"stroke:yellow;stroke-width:4\"/><line x1=\"324\" y1=\"312.036\" x2=\"338\" y2=\"322.374\" stroke-linecap=\"round\" style=\"stroke:yellow;stroke-width:4\"/><line x1=\"338\" y1=\"322.374\" x2=\"352\" y2=\"331.295\" stroke-linecap=\"round\" style=\"stroke:yellow;stroke-width:4\"/><line x1=\"352\" y1=\"331.295\" x2=\"366\" y2=\"338.626\" stroke-linecap=\"round\" style=\"stroke:yellow;stroke-width:4\"/><line x1=\"366\" y1=\"338.626\" x2=\"380\" y2=\"344.222\" stroke-linecap=\"round\" style=\"stroke:yellow;stroke-width:4\"/><line x1=\"380\" y1=\"344.222\" x2=\"394\" y2=\"347.975\" stroke-linecap=\"round\" style=\"stroke:yellow;stroke-width:4\"/><line x1=\"394\" y1=\"347.975\" x2=\"408\" y2=\"349.81\" stroke-linecap=\"round\" style=\"stroke:yellow;stroke-width:4\"/><line x1=\"408\" y1=\"349.81\" x2=\"422\" y2=\"349.693\" stroke-linecap=\"round\" style=\"stroke:yellow;stroke-width:4\"/><line x1=\"422\" y1=\"349.693\" x2=\"436\" y2=\"347.624\" stroke-linecap=\"round\" style=\"stroke:yellow;stroke-width:4\"/><line x1=\"436\" y1=\"347.624\" x2=\"450\" y2=\"343.646\" stroke-linecap=\"round\" style=\"stroke:yellow;stroke-width:4\"/><line x1=\"450\" y1=\"343.646\" x2=\"464\" y2=\"337.835\" stroke-linecap=\"round\" style=\"stroke:yellow;stroke-width:4\"/><line x1=\"464\" y1=\"337.835\" x2=\"478\" y2=\"330.305\" stroke-linecap=\"round\" style=\"stroke:yellow;stroke-width:4\"/><line x1=\"478\" y1=\"330.305\" x2=\"492\" y2=\"321.203\" stroke-linecap=\"round\" style=\"stroke:yellow;stroke-width:4\"/><line x1=\"492\" y1=\"321.203\" x2=\"506\" y2=\"310.709\" stroke-linecap=\"round\" style=\"stroke:yellow;stroke-width:4\"/><line x1=\"506\" y1=\"310.709\" x2=\"520\" y2=\"299.026\" stroke-linecap=\"round\" style=\"stroke:yellow;stroke-width:4\"/><line x1=\"520\" y1=\"299.026\" x2=\"534\" y2=\"286.384\" stroke-linecap=\"round\" style=\"stroke:yellow;stroke-width:4\"/><line x1=\"534\" y1=\"286.384\" x2=\"548\" y2=\"273.03\" stroke-linecap=\"round\" style=\"stroke:yellow;stroke-width:4\"/><line x1=\"548\" y1=\"273.03\" x2=\"562\" y2=\"259.226\" stroke-linecap=\"round\" style=\"stroke:yellow;stroke-width:4\"/><line x1=\"562\" y1=\"259.226\" x2=\"576\" y2=\"245.241\" stroke-linecap=\"round\" style=\"stroke:yellow;stroke-width:4\"/><line x1=\"576\" y1=\"245.241\" x2=\"590\" y2=\"231.349\" stroke-linecap=\"round\" style=\"stroke:yellow;stroke-width:4\"/><line x1=\"590\" y1=\"231.349\" x2=\"604\" y2=\"217.822\" stroke-linecap=\"round\" style=\"stroke:yellow;stroke-width:4\"/><line x1=\"604\" y1=\"217.822\" x2=\"618\" y2=\"204.924\" stroke-linecap=\"round\" style=\"stroke:yellow;stroke-width:4\"/><line x1=\"618\" y1=\"204.924\" x2=\"632\" y2=\"192.909\" stroke-linecap=\"round\" style=\"stroke:yellow;stroke-width:4\"/><line x1=\"632\" y1=\"192.909\" x2=\"646\" y2=\"182.011\" stroke-linecap=\"round\" style=\"stroke:yellow;stroke-width:4\"/><line x1=\"646\" y1=\"182.011\" x2=\"660\" y2=\"172.443\" stroke-linecap=\"round\" style=\"stroke:yellow;stroke-width:4\"/><line x1=\"660\" y1=\"172.443\" x2=\"674\" y2=\"164.393\" stroke-linecap=\"round\" style=\"stroke:yellow;stroke-width:4\"/><line x1=\"674\" y1=\"164.393\" x2=\"688\" y2=\"158.018\" stroke-linecap=\"round\" style=\"stroke:yellow;stroke-width:4\"/><line x1=\"688\" y1=\"158.018\" x2=\"702\" y2=\"153.443\" stroke-linecap=\"round\" style=\"stroke:yellow;stroke-width:4\"/><line x1=\"702\" y1=\"153.443\" x2=\"716\" y2=\"150.758\" stroke-linecap=\"round\" style=\"stroke:yellow;stroke-width:4\"/><line x1=\"716\" y1=\"150.758\" x2=\"730\" y2=\"150.014\" stroke-linecap=\"round\" style=\"stroke:yellow;stroke-width:4\"/><line x1=\"730\" y1=\"150.014\" x2=\"744\" y2=\"151.227\" stroke-linecap=\"round\" style=\"stroke:yellow;stroke-width:4\"/><line x1=\"744\" y1=\"151.227\" x2=\"758\" y2=\"154.373\" stroke-linecap=\"round\" style=\"stroke:yellow;stroke-width:4\"/><line x1=\"758\" y1=\"154.373\" x2=\"772\" y2=\"159.39\" stroke-linecap=\"round\" style=\"stroke:yellow;stroke-width:4\"/><line x1=\"772\" y1=\"159.39\" x2=\"786\" y2=\"166.18\" stroke-linecap=\"round\" style=\"stroke:yellow;stroke-width:4\"/><line x1=\"100\" y1=\"250.0\" x2=\"114\" y2=\"236.09\" stroke-linecap=\"round\" style=\"stroke:red;stroke-width:4\"/><line x1=\"114\" y1=\"236.09\" x2=\"128\" y2=\"222.699\" stroke-linecap=\"round\" style=\"stroke:red;stroke-width:4\"/><line x1=\"128\" y1=\"222.699\" x2=\"142\" y2=\"210.237\" stroke-linecap=\"round\" style=\"stroke:red;stroke-width:4\"/><line x1=\"142\" y1=\"210.237\" x2=\"156\" y2=\"198.951\" stroke-linecap=\"round\" style=\"stroke:red;stroke-width:4\"/><line x1=\"156\" y1=\"198.951\" x2=\"170\" y2=\"188.927\" stroke-linecap=\"round\" style=\"stroke:red;stroke-width:4\"/><line x1=\"170\" y1=\"188.927\" x2=\"184\" y2=\"180.134\" stroke-linecap=\"round\" style=\"stroke:red;stroke-width:4\"/><line x1=\"184\" y1=\"180.134\" x2=\"198\" y2=\"172.47\" stroke-linecap=\"round\" style=\"stroke:red;stroke-width:4\"/><line x1=\"198\" y1=\"172.47\" x2=\"212\" y2=\"165.806\" stroke-linecap=\"round\" style=\"stroke:red;stroke-width:4\"/><line x1=\"212\" y1=\"165.806\" x2=\"226\" y2=\"160.006\" stroke-linecap=\"round\" style=\"stroke:red;stroke-width:4\"/><line x1=\"226\" y1=\"160.006\" x2=\"240\" y2=\"154.945\" stroke-linecap=\"round\" style=\"stroke:red;stroke-width:4\"/><line x1=\"240\" y1=\"154.945\" x2=\"254\" y2=\"150.512\" stroke-linecap=\"round\" style=\"stroke:red;stroke-width:4\"/><line x1=\"254\" y1=\"150.512\" x2=\"268\" y2=\"146.611\" stroke-linecap=\"round\" style=\"stroke:red;stroke-width:4\"/><line x1=\"268\" y1=\"146.611\" x2=\"282\" y2=\"143.162\" stroke-linecap=\"round\" style=\"stroke:red;stroke-width:4\"/><line x1=\"282\" y1=\"143.162\" x2=\"296\" y2=\"140.098\" stroke-linecap=\"round\" style=\"stroke:red;stroke-width:4\"/><line x1=\"296\" y1=\"140.098\" x2=\"310\" y2=\"137.362\" stroke-linecap=\"round\" style=\"stroke:red;stroke-width:4\"/><line x1=\"310\" y1=\"137.362\" x2=\"324\" y2=\"134.908\" stroke-linecap=\"round\" style=\"stroke:red;stroke-width:4\"/><line x1=\"324\" y1=\"134.908\" x2=\"338\" y2=\"132.697\" stroke-linecap=\"round\" style=\"stroke:red;stroke-width:4\"/><line x1=\"338\" y1=\"132.697\" x2=\"352\" y2=\"130.697\" stroke-linecap=\"round\" style=\"stroke:red;stroke-width:4\"/><line x1=\"352\" y1=\"130.697\" x2=\"366\" y2=\"128.88\" stroke-linecap=\"round\" style=\"stroke:red;stroke-width:4\"/><line x1=\"366\" y1=\"128.88\" x2=\"380\" y2=\"127.223\" stroke-linecap=\"round\" style=\"stroke:red;stroke-width:4\"/><line x1=\"380\" y1=\"127.223\" x2=\"394\" y2=\"125.706\" stroke-linecap=\"round\" style=\"stroke:red;stroke-width:4\"/><line x1=\"394\" y1=\"125.706\" x2=\"408\" y2=\"124.314\" stroke-linecap=\"round\" style=\"stroke:red;stroke-width:4\"/><line x1=\"408\" y1=\"124.314\" x2=\"422\" y2=\"123.032\" stroke-linecap=\"round\" style=\"stroke:red;stroke-width:4\"/><line x1=\"422\" y1=\"123.032\" x2=\"436\" y2=\"121.847\" stroke-linecap=\"round\" style=\"stroke:red;stroke-width:4\"/><line x1=\"436\" y1=\"121.847\" x2=\"450\" y2=\"120.75\" stroke-linecap=\"round\" style=\"stroke:red;stroke-width:4\"/><line x1=\"450\" y1=\"120.75\" x2=\"464\" y2=\"119.731\" stroke-linecap=\"round\" style=\"stroke:red;stroke-width:4\"/><line x1=\"464\" y1=\"119.731\" x2=\"478\" y2=\"118.783\" stroke-linecap=\"round\" style=\"stroke:red;stroke-width:4\"/><line x1=\"478\" y1=\"118.783\" x2=\"492\" y2=\"117.898\" stroke-linecap=\"round\" style=\"stroke:red;stroke-width:4\"/><line x1=\"492\" y1=\"117.898\" x2=\"506\" y2=\"117.07\" stroke-linecap=\"round\" style=\"stroke:red;stroke-width:4\"/><line x1=\"506\" y1=\"117.07\" x2=\"520\" y2=\"116.295\" stroke-linecap=\"round\" style=\"stroke:red;stroke-width:4\"/><line x1=\"520\" y1=\"116.295\" x2=\"534\" y2=\"115.567\" stroke-linecap=\"round\" style=\"stroke:red;stroke-width:4\"/><line x1=\"534\" y1=\"115.567\" x2=\"548\" y2=\"114.882\" stroke-linecap=\"round\" style=\"stroke:red;stroke-width:4\"/><line x1=\"548\" y1=\"114.882\" x2=\"562\" y2=\"114.237\" stroke-linecap=\"round\" style=\"stroke:red;stroke-width:4\"/><line x1=\"562\" y1=\"114.237\" x2=\"576\" y2=\"113.628\" stroke-linecap=\"round\" style=\"stroke:red;stroke-width:4\"/><line x1=\"576\" y1=\"113.628\" x2=\"590\" y2=\"113.052\" stroke-linecap=\"round\" style=\"stroke:red;stroke-width:4\"/><line x1=\"590\" y1=\"113.052\" x2=\"604\" y2=\"112.507\" stroke-linecap=\"round\" style=\"stroke:red;stroke-width:4\"/><line x1=\"604\" y1=\"112.507\" x2=\"618\" y2=\"111.991\" stroke-linecap=\"round\" style=\"stroke:red;stroke-width:4\"/><line x1=\"618\" y1=\"111.991\" x2=\"632\" y2=\"111.501\" stroke-linecap=\"round\" style=\"stroke:red;stroke-width:4\"/><line x1=\"632\" y1=\"111.501\" x2=\"646\" y2=\"111.035\" stroke-linecap=\"round\" style=\"stroke:red;stroke-width:4\"/><line x1=\"646\" y1=\"111.035\" x2=\"660\" y2=\"110.591\" stroke-linecap=\"round\" style=\"stroke:red;stroke-width:4\"/><line x1=\"660\" y1=\"110.591\" x2=\"674\" y2=\"110.169\" stroke-linecap=\"round\" style=\"stroke:red;stroke-width:4\"/><line x1=\"674\" y1=\"110.169\" x2=\"688\" y2=\"109.766\" stroke-linecap=\"round\" style=\"stroke:red;stroke-width:4\"/><line x1=\"688\" y1=\"109.766\" x2=\"702\" y2=\"109.381\" stroke-linecap=\"round\" style=\"stroke:red;stroke-width:4\"/><line x1=\"702\" y1=\"109.381\" x2=\"716\" y2=\"109.014\" stroke-linecap=\"round\" style=\"stroke:red;stroke-width:4\"/><line x1=\"716\" y1=\"109.014\" x2=\"730\" y2=\"108.662\" stroke-linecap=\"round\" style=\"stroke:red;stroke-width:4\"/><line x1=\"730\" y1=\"108.662\" x2=\"744\" y2=\"108.325\" stroke-linecap=\"round\" style=\"stroke:red;stroke-width:4\"/><line x1=\"744\" y1=\"108.325\" x2=\"758\" y2=\"108.003\" stroke-linecap=\"round\" style=\"stroke:red;stroke-width:4\"/><line x1=\"758\" y1=\"108.003\" x2=\"772\" y2=\"107.693\" stroke-linecap=\"round\" style=\"stroke:red;stroke-width:4\"/><line x1=\"772\" y1=\"107.693\" x2=\"786\" y2=\"107.396\" stroke-linecap=\"round\" style=\"stroke:red;stroke-width:4\"/><line x1=\"100\" y1=\"250.0\" x2=\"111\" y2=\"216.834\" stroke-linecap=\"round\" style=\"stroke:black;stroke-width:4\"/><line x1=\"111\" y1=\"216.834\" x2=\"122\" y2=\"203.096\" stroke-linecap=\"round\" style=\"stroke:black;stroke-width:4\"/><line x1=\"122\" y1=\"203.096\" x2=\"133\" y2=\"192.554\" stroke-linecap=\"round\" style=\"stroke:black;stroke-width:4\"/><line x1=\"133\" y1=\"192.554\" x2=\"144\" y2=\"183.668\" stroke-linecap=\"round\" style=\"stroke:black;stroke-width:4\"/><line x1=\"144\" y1=\"183.668\" x2=\"155\" y2=\"175.838\" stroke-linecap=\"round\" style=\"stroke:black;stroke-width:4\"/><line x1=\"155\" y1=\"175.838\" x2=\"166\" y2=\"168.76\" stroke-linecap=\"round\" style=\"stroke:black;stroke-width:4\"/><line x1=\"166\" y1=\"168.76\" x2=\"177\" y2=\"162.25\" stroke-linecap=\"round\" style=\"stroke:black;stroke-width:4\"/><line x1=\"177\" y1=\"162.25\" x2=\"188\" y2=\"156.192\" stroke-linecap=\"round\" style=\"stroke:black;stroke-width:4\"/><line x1=\"188\" y1=\"156.192\" x2=\"199\" y2=\"150.501\" stroke-linecap=\"round\" style=\"stroke:black;stroke-width:4\"/><line x1=\"199\" y1=\"150.501\" x2=\"210\" y2=\"145.119\" stroke-linecap=\"round\" style=\"stroke:black;stroke-width:4\"/><line x1=\"210\" y1=\"145.119\" x2=\"221\" y2=\"140.0\" stroke-linecap=\"round\" style=\"stroke:black;stroke-width:4\"/><line x1=\"221\" y1=\"140.0\" x2=\"232\" y2=\"135.109\" stroke-linecap=\"round\" style=\"stroke:black;stroke-width:4\"/><line x1=\"232\" y1=\"135.109\" x2=\"243\" y2=\"130.417\" stroke-linecap=\"round\" style=\"stroke:black;stroke-width:4\"/><line x1=\"243\" y1=\"130.417\" x2=\"254\" y2=\"125.903\" stroke-linecap=\"round\" style=\"stroke:black;stroke-width:4\"/><line x1=\"254\" y1=\"125.903\" x2=\"265\" y2=\"121.548\" stroke-linecap=\"round\" style=\"stroke:black;stroke-width:4\"/><line x1=\"265\" y1=\"121.548\" x2=\"276\" y2=\"117.335\" stroke-linecap=\"round\" style=\"stroke:black;stroke-width:4\"/><line x1=\"276\" y1=\"117.335\" x2=\"287\" y2=\"113.252\" stroke-linecap=\"round\" style=\"stroke:black;stroke-width:4\"/><line x1=\"287\" y1=\"113.252\" x2=\"298\" y2=\"109.288\" stroke-linecap=\"round\" style=\"stroke:black;stroke-width:4\"/><line x1=\"298\" y1=\"109.288\" x2=\"309\" y2=\"105.432\" stroke-linecap=\"round\" style=\"stroke:black;stroke-width:4\"/><line x1=\"309\" y1=\"105.432\" x2=\"320\" y2=\"101.676\" stroke-linecap=\"round\" style=\"stroke:black;stroke-width:4\"/><line x1=\"320\" y1=\"101.676\" x2=\"331\" y2=\"98.013\" stroke-linecap=\"round\" style=\"stroke:black;stroke-width:4\"/><line x1=\"331\" y1=\"98.013\" x2=\"342\" y2=\"94.437\" stroke-linecap=\"round\" style=\"stroke:black;stroke-width:4\"/><line x1=\"342\" y1=\"94.437\" x2=\"353\" y2=\"90.94\" stroke-linecap=\"round\" style=\"stroke:black;stroke-width:4\"/><line x1=\"353\" y1=\"90.94\" x2=\"364\" y2=\"87.519\" stroke-linecap=\"round\" style=\"stroke:black;stroke-width:4\"/><line x1=\"364\" y1=\"87.519\" x2=\"375\" y2=\"84.169\" stroke-linecap=\"round\" style=\"stroke:black;stroke-width:4\"/><line x1=\"375\" y1=\"84.169\" x2=\"386\" y2=\"80.885\" stroke-linecap=\"round\" style=\"stroke:black;stroke-width:4\"/><line x1=\"386\" y1=\"80.885\" x2=\"397\" y2=\"77.663\" stroke-linecap=\"round\" style=\"stroke:black;stroke-width:4\"/><line x1=\"397\" y1=\"77.663\" x2=\"408\" y2=\"74.501\" stroke-linecap=\"round\" style=\"stroke:black;stroke-width:4\"/><line x1=\"408\" y1=\"74.501\" x2=\"419\" y2=\"71.394\" stroke-linecap=\"round\" style=\"stroke:black;stroke-width:4\"/><line x1=\"419\" y1=\"71.394\" x2=\"430\" y2=\"68.341\" stroke-linecap=\"round\" style=\"stroke:black;stroke-width:4\"/><line x1=\"430\" y1=\"68.341\" x2=\"441\" y2=\"65.338\" stroke-linecap=\"round\" style=\"stroke:black;stroke-width:4\"/><line x1=\"441\" y1=\"65.338\" x2=\"452\" y2=\"62.383\" stroke-linecap=\"round\" style=\"stroke:black;stroke-width:4\"/><line x1=\"452\" y1=\"62.383\" x2=\"463\" y2=\"59.474\" stroke-linecap=\"round\" style=\"stroke:black;stroke-width:4\"/><line x1=\"463\" y1=\"59.474\" x2=\"474\" y2=\"56.609\" stroke-linecap=\"round\" style=\"stroke:black;stroke-width:4\"/><line x1=\"474\" y1=\"56.609\" x2=\"485\" y2=\"53.786\" stroke-linecap=\"round\" style=\"stroke:black;stroke-width:4\"/><line x1=\"485\" y1=\"53.786\" x2=\"496\" y2=\"51.003\" stroke-linecap=\"round\" style=\"stroke:black;stroke-width:4\"/><line x1=\"496\" y1=\"51.003\" x2=\"507\" y2=\"48.258\" stroke-linecap=\"round\" style=\"stroke:black;stroke-width:4\"/><line x1=\"507\" y1=\"48.258\" x2=\"518\" y2=\"45.55\" stroke-linecap=\"round\" style=\"stroke:black;stroke-width:4\"/><line x1=\"518\" y1=\"45.55\" x2=\"529\" y2=\"42.877\" stroke-linecap=\"round\" style=\"stroke:black;stroke-width:4\"/><line x1=\"529\" y1=\"42.877\" x2=\"540\" y2=\"40.238\" stroke-linecap=\"round\" style=\"stroke:black;stroke-width:4\"/><line x1=\"540\" y1=\"40.238\" x2=\"551\" y2=\"37.632\" stroke-linecap=\"round\" style=\"stroke:black;stroke-width:4\"/><line x1=\"551\" y1=\"37.632\" x2=\"562\" y2=\"35.058\" stroke-linecap=\"round\" style=\"stroke:black;stroke-width:4\"/><line x1=\"562\" y1=\"35.058\" x2=\"573\" y2=\"32.514\" stroke-linecap=\"round\" style=\"stroke:black;stroke-width:4\"/><line x1=\"573\" y1=\"32.514\" x2=\"584\" y2=\"30.0\" stroke-linecap=\"round\" style=\"stroke:black;stroke-width:4\"/><line x1=\"584\" y1=\"30.0\" x2=\"595\" y2=\"27.514\" stroke-linecap=\"round\" style=\"stroke:black;stroke-width:4\"/><line x1=\"595\" y1=\"27.514\" x2=\"606\" y2=\"25.056\" stroke-linecap=\"round\" style=\"stroke:black;stroke-width:4\"/><line x1=\"606\" y1=\"25.056\" x2=\"617\" y2=\"22.624\" stroke-linecap=\"round\" style=\"stroke:black;stroke-width:4\"/><line x1=\"617\" y1=\"22.624\" x2=\"628\" y2=\"20.217\" stroke-linecap=\"round\" style=\"stroke:black;stroke-width:4\"/><line x1=\"628\" y1=\"20.217\" x2=\"639\" y2=\"17.836\" stroke-linecap=\"round\" style=\"stroke:black;stroke-width:4\"/><line x1=\"639\" y1=\"17.836\" x2=\"650\" y2=\"15.479\" stroke-linecap=\"round\" style=\"stroke:black;stroke-width:4\"/><line x1=\"650\" y1=\"15.479\" x2=\"661\" y2=\"13.146\" stroke-linecap=\"round\" style=\"stroke:black;stroke-width:4\"/><line x1=\"661\" y1=\"13.146\" x2=\"672\" y2=\"10.835\" stroke-linecap=\"round\" style=\"stroke:black;stroke-width:4\"/><line x1=\"672\" y1=\"10.835\" x2=\"683\" y2=\"8.546\" stroke-linecap=\"round\" style=\"stroke:black;stroke-width:4\"/><line x1=\"683\" y1=\"8.546\" x2=\"694\" y2=\"6.279\" stroke-linecap=\"round\" style=\"stroke:black;stroke-width:4\"/><line x1=\"694\" y1=\"6.279\" x2=\"705\" y2=\"4.033\" stroke-linecap=\"round\" style=\"stroke:black;stroke-width:4\"/><line x1=\"705\" y1=\"4.033\" x2=\"716\" y2=\"1.807\" stroke-linecap=\"round\" style=\"stroke:black;stroke-width:4\"/><line x1=\"716\" y1=\"1.807\" x2=\"727\" y2=\"1.807\" stroke-linecap=\"round\" style=\"stroke:black;stroke-width:4\"/><line x1=\"727\" y1=\"1.807\" x2=\"738\" y2=\"1.807\" stroke-linecap=\"round\" style=\"stroke:black;stroke-width:4\"/><line x1=\"738\" y1=\"1.807\" x2=\"749\" y2=\"1.807\" stroke-linecap=\"round\" style=\"stroke:black;stroke-width:4\"/>\n",
              "        <g visibility=visible transform=\"rotate(90,749,1.807) translate(731, -16.193)\">\n",
              "<path style=\" stroke:none;fill-rule:evenodd;fill:black;fill-opacity:1;\" d=\"M 18.214844 0.632812 C 16.109375 1.800781 15.011719 4.074219 15.074219 7.132812 L 15.085938 7.652344 L 14.785156 7.496094 C 13.476562 6.824219 11.957031 6.671875 10.40625 7.066406 C 8.46875 7.550781 6.515625 9.15625 4.394531 11.992188 C 3.0625 13.777344 2.679688 14.636719 3.042969 15.027344 L 3.15625 15.152344 L 3.519531 15.152344 C 4.238281 15.152344 4.828125 14.886719 8.1875 13.039062 C 9.386719 12.378906 10.371094 11.839844 10.378906 11.839844 C 10.386719 11.839844 10.355469 11.929688 10.304688 12.035156 C 9.832031 13.09375 9.257812 14.820312 8.96875 16.078125 C 7.914062 20.652344 8.617188 24.53125 11.070312 27.660156 C 11.351562 28.015625 11.363281 27.914062 10.972656 28.382812 C 8.925781 30.84375 7.945312 33.28125 8.238281 35.1875 C 8.289062 35.527344 8.28125 35.523438 8.917969 35.523438 C 10.941406 35.523438 13.074219 34.207031 15.136719 31.6875 C 15.359375 31.417969 15.328125 31.425781 15.5625 31.574219 C 16.292969 32.042969 18.023438 32.964844 18.175781 32.964844 C 18.335938 32.964844 19.941406 32.210938 20.828125 31.71875 C 20.996094 31.625 21.136719 31.554688 21.136719 31.558594 C 21.203125 31.664062 21.898438 32.414062 22.222656 32.730469 C 23.835938 34.300781 25.5625 35.132812 27.582031 35.300781 C 27.90625 35.328125 27.9375 35.308594 28.007812 34.984375 C 28.382812 33.242188 27.625 30.925781 25.863281 28.425781 L 25.542969 27.96875 L 25.699219 27.785156 C 28.945312 23.960938 29.132812 18.699219 26.257812 11.96875 L 26.207031 11.84375 L 27.945312 12.703125 C 31.53125 14.476562 32.316406 14.800781 33.03125 14.800781 C 33.976562 14.800781 33.78125 13.9375 32.472656 12.292969 C 28.519531 7.355469 25.394531 5.925781 21.921875 7.472656 L 21.558594 7.636719 L 21.578125 7.542969 C 21.699219 6.992188 21.761719 5.742188 21.699219 5.164062 C 21.496094 3.296875 20.664062 1.964844 19.003906 0.855469 C 18.480469 0.503906 18.457031 0.5 18.214844 0.632812\"/>\n",
              "</g>\n",
              "      </svg>\n",
              "    "
            ],
            "text/plain": [
              "<IPython.core.display.HTML object>"
            ]
          },
          "metadata": {}
        }
      ]
    },
    {
      "cell_type": "code",
      "metadata": {
        "id": "ar0eg9dquAN-"
      },
      "source": [
        "help(ColabTurtle.Turtle)"
      ],
      "execution_count": null,
      "outputs": []
    },
    {
      "cell_type": "code",
      "metadata": {
        "id": "KvxxTH-Kud0L"
      },
      "source": [
        "print(*VALID_COLORS,VALID_COLORS.count,sep=\"\\n\")"
      ],
      "execution_count": null,
      "outputs": []
    },
    {
      "cell_type": "code",
      "source": [
        "T.clear()\n",
        "for i in range(20):\n",
        "  T.pen_color=(\"white\")\n",
        "  poligon_drow(20,15)\n",
        "  T.right(360/15)\n",
        "  T.forward(70)\n",
        "  T.right(360/15)"
      ],
      "metadata": {
        "id": "ivap4gqmE_lE"
      },
      "execution_count": null,
      "outputs": []
    }
  ]
}